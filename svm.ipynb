{
  "nbformat": 4,
  "nbformat_minor": 0,
  "metadata": {
    "colab": {
      "name": "svm",
      "provenance": [],
      "authorship_tag": "ABX9TyM0Qd8nUqOOflDlwNazsQlk",
      "include_colab_link": true
    },
    "kernelspec": {
      "name": "python3",
      "display_name": "Python 3"
    },
    "language_info": {
      "name": "python"
    }
  },
  "cells": [
    {
      "cell_type": "markdown",
      "metadata": {
        "id": "view-in-github",
        "colab_type": "text"
      },
      "source": [
        "<a href=\"https://colab.research.google.com/github/ghdakrk/ML/blob/main/svm.ipynb\" target=\"_parent\"><img src=\"https://colab.research.google.com/assets/colab-badge.svg\" alt=\"Open In Colab\"/></a>"
      ]
    },
    {
      "cell_type": "code",
      "source": [
        "from sklearn.datasets import make_blobs\n",
        "import matplotlib.pyplot as plt\n",
        "\n",
        "X, y = make_blobs(n_samples=50, centers=2, cluster_std=0.5, random_state=4)\n",
        "y = 2 * y - 1\n",
        "\n",
        "plt.scatter(X[y==-1, 0], X[y==-1, 1], marker='o', label=\"-1 클래스\")\n",
        "plt.scatter(X[y==+1, 0], X[y==+1, 1], marker='x', label=\"+1 클래스\")\n",
        "plt.xlabel(\"x1\")\n",
        "plt.ylabel(\"x2\")\n",
        "plt.legend()\n",
        "plt.title('learning data')\n",
        "plt.show()"
      ],
      "metadata": {
        "colab": {
          "base_uri": "https://localhost:8080/",
          "height": 535
        },
        "id": "1b6O5XAVaTu9",
        "outputId": "77098b6c-1fce-4bba-ba95-9dc5c0a93e61"
      },
      "execution_count": 6,
      "outputs": [
        {
          "output_type": "stream",
          "name": "stderr",
          "text": [
            "/usr/local/lib/python3.7/dist-packages/matplotlib/backends/backend_agg.py:214: RuntimeWarning: Glyph 53364 missing from current font.\n",
            "  font.set_text(s, 0.0, flags=flags)\n",
            "/usr/local/lib/python3.7/dist-packages/matplotlib/backends/backend_agg.py:214: RuntimeWarning: Glyph 47000 missing from current font.\n",
            "  font.set_text(s, 0.0, flags=flags)\n",
            "/usr/local/lib/python3.7/dist-packages/matplotlib/backends/backend_agg.py:214: RuntimeWarning: Glyph 49828 missing from current font.\n",
            "  font.set_text(s, 0.0, flags=flags)\n",
            "/usr/local/lib/python3.7/dist-packages/matplotlib/backends/backend_agg.py:183: RuntimeWarning: Glyph 53364 missing from current font.\n",
            "  font.set_text(s, 0, flags=flags)\n",
            "/usr/local/lib/python3.7/dist-packages/matplotlib/backends/backend_agg.py:183: RuntimeWarning: Glyph 47000 missing from current font.\n",
            "  font.set_text(s, 0, flags=flags)\n",
            "/usr/local/lib/python3.7/dist-packages/matplotlib/backends/backend_agg.py:183: RuntimeWarning: Glyph 49828 missing from current font.\n",
            "  font.set_text(s, 0, flags=flags)\n"
          ]
        },
        {
          "output_type": "display_data",
          "data": {
            "image/png": "[encoded data removed]",
            "text/plain": [
              "<Figure size 432x288 with 1 Axes>"
            ]
          },
          "metadata": {
            "needs_background": "light"
          }
        }
      ]
    },
    {
      "cell_type": "code",
      "execution_count": 7,
      "metadata": {
        "id": "njY75lo8Z1ew"
      },
      "outputs": [],
      "source": [
        "from sklearn.svm import SVC\n",
        "model = SVC(kernel='linear', C=1e10).fit(X, y)"
      ]
    },
    {
      "cell_type": "code",
      "source": [
        "model.n_support_"
      ],
      "metadata": {
        "colab": {
          "base_uri": "https://localhost:8080/"
        },
        "id": "ePtUoSXkbSEQ",
        "outputId": "4f878173-613e-4456-b95a-3219f49d9d0f"
      },
      "execution_count": 9,
      "outputs": [
        {
          "output_type": "execute_result",
          "data": {
            "text/plain": [
              "array([1, 1], dtype=int32)"
            ]
          },
          "metadata": {},
          "execution_count": 9
        }
      ]
    },
    {
      "cell_type": "code",
      "source": [
        "import numpy as np\n",
        "\n",
        "xmin = X[:, 0].min()\n",
        "xmax = X[:, 0].max()\n",
        "ymin = X[:, 1].min()\n",
        "ymax = X[:, 1].max()\n",
        "xx = np.linspace(xmin, xmax, 10)\n",
        "yy = np.linspace(ymin, ymax, 10)\n",
        "X1, X2 = np.meshgrid(xx, yy)\n",
        "Z = np.empty(X1.shape)\n",
        "for (i, j), val in np.ndenumerate(X1):\n",
        " x1 = val\n",
        " x2 = X2[i, j]\n",
        " p = model.decision_function([[x1, x2]])\n",
        " Z[i, j] = p[0]\n",
        "levels = [-1, 0, 1]\n",
        "linestyles = ['dashed', 'solid', 'dashed']\n",
        "plt.scatter(X[y == -1, 0], X[y == -1, 1], marker='o', label=\"-1 class\")\n",
        "plt.scatter(X[y == +1, 0], X[y == +1, 1], marker='x', label=\"+1 class\")\n",
        "plt.contour(X1, X2, Z, levels, colors='k', linestyles=linestyles)\n",
        "plt.scatter(model.support_vectors_[:, 0], model.support_vectors_[:, 1], s=300, alpha=0.3)\n",
        "x_new = [10, 2]\n",
        "plt.scatter(x_new[0], x_new[1], marker='^', s=100)\n",
        "plt.text(x_new[0] + 0.03, x_new[1] + 0.08, \"test data\")\n",
        "plt.xlabel(\"x1\")\n",
        "plt.ylabel(\"x2\")\n",
        "plt.legend()\n",
        "plt.title(\"SVM predict result\")\n",
        "plt.show()"
      ],
      "metadata": {
        "colab": {
          "base_uri": "https://localhost:8080/",
          "height": 295
        },
        "id": "SOuG5Z_LbUiv",
        "outputId": "832a125a-c738-48eb-b290-38d0eb49bf34"
      },
      "execution_count": 11,
      "outputs": [
        {
          "output_type": "display_data",
          "data": {
            "image/png": "[encoded data removed]",
            "text/plain": [
              "<Figure size 432x288 with 1 Axes>"
            ]
          },
          "metadata": {
            "needs_background": "light"
          }
        }
      ]
    },
    {
      "cell_type": "code",
      "source": [
        "from numpy.lib.npyio import load\n",
        "from sklearn.datasets import load_iris\n",
        "X = load_iris().data\n",
        "y = load_iris().target\n",
        "\n",
        "model = SVC(kernel='linear', C=1e10).fit(X, y)"
      ],
      "metadata": {
        "id": "JejDaj39bzMw"
      },
      "execution_count": 13,
      "outputs": []
    },
    {
      "cell_type": "code",
      "source": [
        "model.support_vectors_"
      ],
      "metadata": {
        "colab": {
          "base_uri": "https://localhost:8080/"
        },
        "id": "ItrttT7qeuFI",
        "outputId": "d18315cf-63eb-4b85-cb75-f2b81f7d03b4"
      },
      "execution_count": 17,
      "outputs": [
        {
          "output_type": "execute_result",
          "data": {
            "text/plain": [
              "array([[5.1, 3.3, 1.7, 0.5],\n",
              "       [4.8, 3.4, 1.9, 0.2],\n",
              "       [4.5, 2.3, 1.3, 0.3],\n",
              "       [5.9, 3.2, 4.8, 1.8],\n",
              "       [6.7, 3. , 5. , 1.7],\n",
              "       [6. , 2.7, 5.1, 1.6],\n",
              "       [5.1, 2.5, 3. , 1.1],\n",
              "       [4.9, 2.5, 4.5, 1.7],\n",
              "       [6.2, 2.8, 4.8, 1.8],\n",
              "       [7.2, 3. , 5.8, 1.6],\n",
              "       [6.3, 2.8, 5.1, 1.5],\n",
              "       [6. , 3. , 4.8, 1.8]])"
            ]
          },
          "metadata": {},
          "execution_count": 17
        }
      ]
    },
    {
      "cell_type": "code",
      "source": [
        "from sklearn.metrics import classification_report\n",
        "print(classification_report(y, model.predict(X)))"
      ],
      "metadata": {
        "colab": {
          "base_uri": "https://localhost:8080/"
        },
        "id": "kJPjmklMe3hM",
        "outputId": "ef60c50d-442b-46b9-e8fb-718d19304377"
      },
      "execution_count": 19,
      "outputs": [
        {
          "output_type": "stream",
          "name": "stdout",
          "text": [
            "              precision    recall  f1-score   support\n",
            "\n",
            "           0       1.00      1.00      1.00        50\n",
            "           1       0.98      0.96      0.97        50\n",
            "           2       0.96      0.98      0.97        50\n",
            "\n",
            "    accuracy                           0.98       150\n",
            "   macro avg       0.98      0.98      0.98       150\n",
            "weighted avg       0.98      0.98      0.98       150\n",
            "\n"
          ]
        }
      ]
    },
    {
      "cell_type": "code",
      "source": [
        "from sklearn.datasets import load_iris\n",
        "iris = load_iris()\n",
        "X = iris.data[:100, :2]\n",
        "y = iris.target[:100]\n",
        "from sklearn.svm import SVC\n",
        "model = SVC(kernel=\"linear\", C=1e10).fit(X, y)\n",
        "from sklearn.metrics import classification_report\n",
        "print(classification_report(y, model.predict(X)))"
      ],
      "metadata": {
        "colab": {
          "base_uri": "https://localhost:8080/"
        },
        "id": "W1QdC8ScfPjt",
        "outputId": "fbe73ea1-e94a-43ac-99ec-dfda6fe73d90"
      },
      "execution_count": 26,
      "outputs": [
        {
          "output_type": "stream",
          "name": "stdout",
          "text": [
            "              precision    recall  f1-score   support\n",
            "\n",
            "           0       1.00      1.00      1.00        50\n",
            "           1       1.00      1.00      1.00        50\n",
            "\n",
            "    accuracy                           1.00       100\n",
            "   macro avg       1.00      1.00      1.00       100\n",
            "weighted avg       1.00      1.00      1.00       100\n",
            "\n"
          ]
        }
      ]
    },
    {
      "cell_type": "code",
      "source": [
        "xmin = X[:, 0].min()\n",
        "xmax = X[:, 0].max()\n",
        "ymin = X[:, 1].min()\n",
        "ymax = X[:, 1].max()\n",
        "xx = np.linspace(xmin, xmax, 10)\n",
        "yy = np.linspace(ymin, ymax, 10)\n",
        "X1, X2 = np.meshgrid(xx, yy)\n",
        "Z = np.empty(X1.shape)\n",
        "for (i, j), val in np.ndenumerate(X1):\n",
        "    x1 = val\n",
        "    x2 = X2[i, j]\n",
        "    p = model.decision_function([[x1, x2]])\n",
        "    Z[i, j] = p[0]\n",
        "levels = [-1, 0, 1]\n",
        "linestyles = ['dashed', 'solid', 'dashed']\n",
        "plt.scatter(X[y == 0, 0], X[y == 0, 1], marker='o', label=\"1st class\")\n",
        "plt.scatter(X[y == +1, 0], X[y == +1, 1], marker='x', label=\"2nd class\")\n",
        "plt.contour(X1, X2, Z, levels, colors='k', linestyles=linestyles)\n",
        "plt.scatter(model.support_vectors_[:, 0], model.support_vectors_[:, 1], s=300, alpha=0.3)\n",
        "x_new = [10, 2]\n",
        "plt.scatter(x_new[0], x_new[1], marker='^', s=100)\n",
        "plt.text(x_new[0] + 0.03, x_new[1] + 0.08, \"test data\")\n",
        "plt.xlabel(\"x1\")\n",
        "plt.ylabel(\"x2\")\n",
        "plt.legend()\n",
        "plt.title(\"SVM predict result\")\n",
        "plt.show()"
      ],
      "metadata": {
        "colab": {
          "base_uri": "https://localhost:8080/",
          "height": 295
        },
        "id": "zuZHvQMqfcmR",
        "outputId": "47964fdc-42aa-4a7e-832f-9d57be53328b"
      },
      "execution_count": 30,
      "outputs": [
        {
          "output_type": "display_data",
          "data": {
            "image/png": "[encoded data removed]",
            "text/plain": [
              "<Figure size 432x288 with 1 Axes>"
            ]
          },
          "metadata": {
            "needs_background": "light"
          }
        }
      ]
    },
    {
      "cell_type": "code",
      "source": [
        ""
      ],
      "metadata": {
        "id": "O7Kt4YyEfr8u"
      },
      "execution_count": null,
      "outputs": []
    }
  ]
}