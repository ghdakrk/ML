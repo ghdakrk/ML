{
  "cells": [
    {
      "cell_type": "markdown",
      "metadata": {
        "id": "view-in-github",
        "colab_type": "text"
      },
      "source": [
        "<a href=\"https://colab.research.google.com/github/ghdakrk/ML/blob/main/DAY05_211227_VGG_%EA%B3%BC%EC%A0%9C%EC%A0%95%EB%8B%B5.ipynb\" target=\"_parent\"><img src=\"https://colab.research.google.com/assets/colab-badge.svg\" alt=\"Open In Colab\"/></a>"
      ]
    },
    {
      "cell_type": "markdown",
      "metadata": {
        "id": "4MEGc-cfUbVj"
      },
      "source": [
        "Copyright @ cb_park@korea.ac.kr (Cheonbok Park), joonleesky@kaist.ac.kr (Hojoon Lee)"
      ]
    },
    {
      "cell_type": "markdown",
      "metadata": {
        "id": "JFBme9kOUbVm"
      },
      "source": [
        "\n",
        "## Convolutional Neural Network"
      ]
    },
    {
      "cell_type": "code",
      "execution_count": null,
      "metadata": {
        "id": "kbrl4jxKGFo8"
      },
      "outputs": [],
      "source": [
        "import torch\n",
        "import torch.nn as nn\n",
        "import torchvision.datasets as datasets\n",
        "import torchvision.transforms as transforms"
      ]
    },
    {
      "cell_type": "code",
      "metadata": {
        "id": "w5ac4lIO1BHI"
      },
      "source": [
        "## Below are the all identical neural network with different expression"
      ],
      "execution_count": null,
      "outputs": []
    },
    {
      "cell_type": "markdown",
      "source": [
        "recap : [link](https://stats.stackexchange.com/questions/295397/what-is-the-difference-between-conv1d-and-conv2d)\n",
        "\n",
        "output size = `(((W - K + 2P)/S) + 1)`\n",
        "\n",
        "      - Here W = Input size\n",
        "      - K = Filter size\n",
        "      - S = Stride\n",
        "      - P = Padding "
      ],
      "metadata": {
        "id": "WV1CbAdeQKRj"
      }
    },
    {
      "cell_type": "code",
      "execution_count": null,
      "metadata": {
        "id": "8KKIXyHOHmt0"
      },
      "outputs": [],
      "source": [
        "class CNN1(nn.Module):\n",
        "    def __init__(self): # input image = batch_size x 3 x 32 x 32\n",
        "        super(CNN1, self).__init__()\n",
        "        # in_channels, out_channels, kernel_size, stride=1, padding=0\n",
        "        self.conv = nn.Conv2d(3, 64, kernel_size=3, padding=1) # todo : check the parameter\n",
        "        self.relu = nn.ReLU() #\n",
        "        self.maxpool = nn.MaxPool2d(2) # todo : check the parameter\n",
        "\n",
        "    def forward(self, x):\n",
        "        out = self.conv(x)\n",
        "        out = self.relu(out)\n",
        "        out = self.maxpool(out)\n",
        "        return out  # input image = batch_size x 3 x 16 x 16\n",
        "\n",
        "    \n",
        "class CNN2(nn.Module):\n",
        "    def __init__(self): # input image = batch_size x 3 x 32 x 32\n",
        "        super(CNN2, self).__init__()\n",
        "\n",
        "        self.layer = nn.Sequential(\n",
        "            nn.Conv2d(3, 64, kernel_size=3, padding=1),\n",
        "            nn.ReLU(),\n",
        "            nn.MaxPool2d(2))\n",
        "\n",
        "    def forward(self, x):\n",
        "        out = self.layer(x)\n",
        "        return out  # input image = batch_size x 3 x 16 x 16      \n",
        "      \n",
        "\n",
        "class CNN3(nn.Module):\n",
        "    def __init__(self): # input image = batch_size x 3 x 32 x 32\n",
        "        super(CNN3, self).__init__()\n",
        "        layer = []\n",
        "        \n",
        "        layer.append(nn.Conv2d(3, 64, kernel_size=3, padding=1))\n",
        "        layer.append(nn.ReLU())\n",
        "        layer.append(nn.MaxPool2d(2))\n",
        "        \n",
        "        self.layer = nn.Sequential(*layer)\n",
        "\n",
        "    def forward(self, x):\n",
        "        out = self.layer(x)\n",
        "        return out  # input image = batch_size x 3 x 16 x 16"
      ]
    },
    {
      "cell_type": "code",
      "execution_count": null,
      "metadata": {
        "id": "zUe1jul0UbVq"
      },
      "outputs": [],
      "source": [
        "sample_image = torch.zeros(16, 3, 32, 32) # batch, 3, H, W"
      ]
    },
    {
      "cell_type": "code",
      "execution_count": null,
      "metadata": {
        "colab": {
          "base_uri": "https://localhost:8080/"
        },
        "id": "AyKFlPpoH4SS",
        "outputId": "52b29d2d-a178-4f30-efa9-4ae5d056e24c"
      },
      "outputs": [
        {
          "name": "stdout",
          "output_type": "stream",
          "text": [
            "CNN1(\n",
            "  (conv): Conv2d(3, 64, kernel_size=(3, 3), stride=(1, 1), padding=(1, 1))\n",
            "  (relu): ReLU()\n",
            "  (maxpool): MaxPool2d(kernel_size=2, stride=2, padding=0, dilation=1, ceil_mode=False)\n",
            ")\n",
            "torch.Size([16, 64, 16, 16])\n"
          ]
        }
      ],
      "source": [
        "cnn = CNN1()\n",
        "print(cnn)\n",
        "output = cnn(sample_image) # 16, 64, 32, 32\n",
        "print(output.size())"
      ]
    },
    {
      "cell_type": "code",
      "execution_count": null,
      "metadata": {
        "colab": {
          "base_uri": "https://localhost:8080/"
        },
        "id": "pWioOF2KJYtT",
        "outputId": "c7f997f9-20a0-4c0f-c0f5-36ac974275fe"
      },
      "outputs": [
        {
          "name": "stdout",
          "output_type": "stream",
          "text": [
            "CNN2(\n",
            "  (layer): Sequential(\n",
            "    (0): Conv2d(3, 64, kernel_size=(3, 3), stride=(1, 1), padding=(1, 1))\n",
            "    (1): ReLU()\n",
            "    (2): MaxPool2d(kernel_size=2, stride=2, padding=0, dilation=1, ceil_mode=False)\n",
            "  )\n",
            ")\n",
            "torch.Size([16, 64, 16, 16])\n"
          ]
        }
      ],
      "source": [
        "cnn = CNN2()\n",
        "print(cnn)\n",
        "output = cnn(sample_image)\n",
        "print(output.size())"
      ]
    },
    {
      "cell_type": "code",
      "execution_count": null,
      "metadata": {
        "colab": {
          "base_uri": "https://localhost:8080/"
        },
        "id": "_ZZc7uUVJY1Y",
        "outputId": "b7362751-18fe-4b34-a8b7-36b1802bcbf3"
      },
      "outputs": [
        {
          "name": "stdout",
          "output_type": "stream",
          "text": [
            "CNN3(\n",
            "  (layer): Sequential(\n",
            "    (0): Conv2d(3, 64, kernel_size=(3, 3), stride=(1, 1), padding=(1, 1))\n",
            "    (1): ReLU()\n",
            "    (2): MaxPool2d(kernel_size=2, stride=2, padding=0, dilation=1, ceil_mode=False)\n",
            "  )\n",
            ")\n",
            "torch.Size([16, 64, 16, 16])\n"
          ]
        }
      ],
      "source": [
        "cnn = CNN3()\n",
        "print(cnn)\n",
        "output = cnn(sample_image)\n",
        "print(output.size())"
      ]
    },
    {
      "cell_type": "markdown",
      "metadata": {
        "id": "Xc34AFr-EtJ7"
      },
      "source": [
        "### Let's practice creating the Convolutional Neural Network"
      ]
    },
    {
      "cell_type": "code",
      "execution_count": null,
      "metadata": {
        "id": "Fc-cfHRxEwab"
      },
      "outputs": [],
      "source": [
        "class CNN_prac(nn.Module):\n",
        "    def __init__(self): # input image = batch_size x 3 x 32 x 32\n",
        "        super(CNN_prac, self).__init__()\n",
        "        # torch.nn.Conv2d(in_channels, out_channels, kernel_size, stride=1, padding=0, ...)\n",
        "        self.conv1 = nn.Conv2d(3, 512, 3, 1, 1)  # expected output shape : [batch, 512, 32, 32]\n",
        "        self.conv2 = nn.Conv2d(512, 256, 3, 1, 1) # expected output shape : [batch, 256, 32, 32]\n",
        "        self.conv3 = nn.Conv2d(256, 256, 3, 2, 1) # expected output shape : [batch, 256, 16, 16]\n",
        "        self.conv4 = nn.Conv2d(256, 256, 3, 4, 1) # todo : change to nn.Conv2d(?, ?, ?, ?, ?) # (H - K + 2P)/S\n",
        "\n",
        "        self.linear = nn.Linear(256*4*4, 10)\n",
        "    def forward(self, x):\n",
        "        out=self.conv1(x)\n",
        "        print('after conv1 :',out.shape)\n",
        "        out=self.conv2(out)\n",
        "        print('after conv2 :',out.shape)\n",
        "        out=self.conv3(out)\n",
        "        print('after conv3 :',out.shape)\n",
        "        out=self.conv4(out)\n",
        "        print('after conv4 :',out.shape)\n",
        "        out = out.contiguous().view(-1, 256*4*4) # output size should be [batch, 256, 4, 4]\n",
        "        print('view :',out.shape)\n",
        "        out = self.linear(out)\n",
        "        return out"
      ]
    },
    {
      "cell_type": "code",
      "execution_count": null,
      "metadata": {
        "id": "gFpbf_4cKUdG",
        "colab": {
          "base_uri": "https://localhost:8080/"
        },
        "outputId": "a07ecb3f-d715-4331-eeb3-7c725432b836"
      },
      "outputs": [
        {
          "name": "stdout",
          "output_type": "stream",
          "text": [
            "after conv1 : torch.Size([64, 512, 32, 32])\n",
            "after conv2 : torch.Size([64, 256, 32, 32])\n",
            "after conv3 : torch.Size([64, 256, 16, 16])\n",
            "after conv4 : torch.Size([64, 256, 4, 4])\n",
            "view : torch.Size([64, 4096])\n",
            "torch.Size([64, 10])\n",
            "CNN_prac(\n",
            "  (conv1): Conv2d(3, 512, kernel_size=(3, 3), stride=(1, 1), padding=(1, 1))\n",
            "  (conv2): Conv2d(512, 256, kernel_size=(3, 3), stride=(1, 1), padding=(1, 1))\n",
            "  (conv3): Conv2d(256, 256, kernel_size=(3, 3), stride=(2, 2), padding=(1, 1))\n",
            "  (conv4): Conv2d(256, 256, kernel_size=(3, 3), stride=(4, 4), padding=(1, 1))\n",
            "  (linear): Linear(in_features=4096, out_features=10, bias=True)\n",
            ")\n"
          ]
        }
      ],
      "source": [
        "cnn_prac=CNN_prac()\n",
        "sample_image = torch.zeros(64, 3, 32, 32)\n",
        "output=cnn_prac(sample_image)\n",
        "print(output.size()) \n",
        "print(cnn_prac)"
      ]
    },
    {
      "cell_type": "markdown",
      "metadata": {
        "id": "f0oDpcezKlYK"
      },
      "source": [
        "## 2.1 VGG-19"
      ]
    },
    {
      "cell_type": "markdown",
      "metadata": {
        "id": "yYrJlv_6UbVu"
      },
      "source": [
        "### Let's create by yourself"
      ]
    },
    {
      "cell_type": "code",
      "execution_count": null,
      "metadata": {
        "id": "EAZWOam78RgJ"
      },
      "outputs": [],
      "source": [
        "# https://iq.opengenus.org/vgg19-architecture/\n",
        "# ConvBlock1 : [conv -> batchnorm -> relu] x 2\n",
        "class ConvBlock1(nn.Module):\n",
        "\n",
        "    def __init__(self, in_dim, out_dim):\n",
        "        super(ConvBlock1, self).__init__()\n",
        "        \n",
        "        self.in_dim = in_dim\n",
        "        self.out_dim = out_dim\n",
        "\n",
        "        self.main = nn.Sequential(nn.Conv2d(self.in_dim, self.out_dim, kernel_size=3, padding=1),                    \n",
        "                                  nn.BatchNorm2d(self.out_dim),\n",
        "                                  nn.ReLU(),\n",
        "                                  nn.Conv2d(self.out_dim, self.out_dim, kernel_size=3, padding=1),                    \n",
        "                                  nn.BatchNorm2d(self.out_dim),\n",
        "                                  nn.ReLU(),\n",
        "                                  nn.MaxPool2d(2)\n",
        "                                 )\n",
        "        \n",
        "    def forward(self, x):\n",
        "        out = self.main(x)\n",
        "        return out"
      ]
    },
    {
      "cell_type": "code",
      "execution_count": null,
      "metadata": {
        "id": "mGFf0M428Y90"
      },
      "outputs": [],
      "source": [
        "# ConvBlock2 : [conv -> batchnorm -> relu] x 4, maxpool2d\n",
        "class ConvBlock2(nn.Module):\n",
        "\n",
        "    def __init__(self, in_dim, out_dim):\n",
        "        super(ConvBlock2, self).__init__()\n",
        "        \n",
        "        self.in_dim = in_dim\n",
        "        self.out_dim = out_dim\n",
        "        \n",
        "        self.main = nn.Sequential(nn.Conv2d(self.in_dim, self.out_dim, kernel_size=3, padding=1),                    \n",
        "                                  nn.BatchNorm2d(self.out_dim),\n",
        "                                  nn.ReLU(),\n",
        "                                  nn.Conv2d(self.out_dim, self.out_dim, kernel_size=3, padding=1),                    \n",
        "                                  nn.BatchNorm2d(self.out_dim),\n",
        "                                  nn.ReLU(),\n",
        "                                  nn.Conv2d(self.out_dim, self.out_dim, kernel_size=3, padding=1),                    \n",
        "                                  nn.BatchNorm2d(self.out_dim),\n",
        "                                  nn.ReLU(),\n",
        "                                  nn.Conv2d(self.out_dim, self.out_dim, kernel_size=3, padding=1),                    \n",
        "                                  nn.BatchNorm2d(self.out_dim),\n",
        "                                  nn.ReLU(),\n",
        "                                  nn.MaxPool2d(2)\n",
        "                                 )\n",
        "        \n",
        "    def forward(self, x):\n",
        "        out = self.main(x)\n",
        "        return out"
      ]
    },
    {
      "cell_type": "code",
      "execution_count": null,
      "metadata": {
        "id": "t64ZySpa-4uH"
      },
      "outputs": [],
      "source": [
        "class VGG19(nn.Module):\n",
        "    def __init__(self, num_classes = 10):\n",
        "        super(VGG19, self).__init__()\n",
        "        \n",
        "        self.convlayer1 = ConvBlock1(3, 64)\n",
        "        self.convlayer2 = ConvBlock1(64, 128)\n",
        "        self.convlayer3 = ConvBlock2(128, 256)\n",
        "        self.convlayer4 = ConvBlock2(256, 512)\n",
        "        self.convlayer5 = ConvBlock2(512, 512)\n",
        "        self.linear = nn.Sequential(\n",
        "            nn.Linear(512, 512),\n",
        "            nn.ReLU(),\n",
        "            nn.Linear(512, 128),\n",
        "            nn.ReLU(),\n",
        "            nn.Linear(128, num_classes),\n",
        "        )\n",
        "    def forward(self, input):\n",
        "        out = self.convlayer1(input)    \n",
        "        out = self.convlayer2(out)\n",
        "        out = self.convlayer3(out)\n",
        "        out = self.convlayer4(out)\n",
        "        out = self.convlayer5(out).squeeze() # 16 x 512 x 1 x 1에서 뒤 1 x 1 축약 \n",
        "        out = self.linear(out)\n",
        "        return out\n"
      ]
    },
    {
      "cell_type": "markdown",
      "metadata": {
        "id": "3OJ3AF42UbVw"
      },
      "source": [
        "## Test Your Impelemetation"
      ]
    },
    {
      "cell_type": "code",
      "execution_count": null,
      "metadata": {
        "id": "JD3mx_XCJudH",
        "outputId": "ac168045-a901-44f7-c587-59d7e4cd2f78"
      },
      "outputs": [
        {
          "name": "stdout",
          "output_type": "stream",
          "text": [
            "VGG19(\n",
            "  (convlayer1): ConvBlock1(\n",
            "    (main): Sequential(\n",
            "      (0): Conv2d(3, 64, kernel_size=(3, 3), stride=(1, 1), padding=(1, 1))\n",
            "      (1): BatchNorm2d(64, eps=1e-05, momentum=0.1, affine=True, track_running_stats=True)\n",
            "      (2): ReLU()\n",
            "      (3): Conv2d(64, 64, kernel_size=(3, 3), stride=(1, 1), padding=(1, 1))\n",
            "      (4): BatchNorm2d(64, eps=1e-05, momentum=0.1, affine=True, track_running_stats=True)\n",
            "      (5): ReLU()\n",
            "      (6): MaxPool2d(kernel_size=2, stride=2, padding=0, dilation=1, ceil_mode=False)\n",
            "    )\n",
            "  )\n",
            "  (convlayer2): ConvBlock1(\n",
            "    (main): Sequential(\n",
            "      (0): Conv2d(64, 128, kernel_size=(3, 3), stride=(1, 1), padding=(1, 1))\n",
            "      (1): BatchNorm2d(128, eps=1e-05, momentum=0.1, affine=True, track_running_stats=True)\n",
            "      (2): ReLU()\n",
            "      (3): Conv2d(128, 128, kernel_size=(3, 3), stride=(1, 1), padding=(1, 1))\n",
            "      (4): BatchNorm2d(128, eps=1e-05, momentum=0.1, affine=True, track_running_stats=True)\n",
            "      (5): ReLU()\n",
            "      (6): MaxPool2d(kernel_size=2, stride=2, padding=0, dilation=1, ceil_mode=False)\n",
            "    )\n",
            "  )\n",
            "  (convlayer3): ConvBlock2(\n",
            "    (main): Sequential(\n",
            "      (0): Conv2d(128, 256, kernel_size=(3, 3), stride=(1, 1), padding=(1, 1))\n",
            "      (1): BatchNorm2d(256, eps=1e-05, momentum=0.1, affine=True, track_running_stats=True)\n",
            "      (2): ReLU()\n",
            "      (3): Conv2d(256, 256, kernel_size=(3, 3), stride=(1, 1), padding=(1, 1))\n",
            "      (4): BatchNorm2d(256, eps=1e-05, momentum=0.1, affine=True, track_running_stats=True)\n",
            "      (5): ReLU()\n",
            "      (6): Conv2d(256, 256, kernel_size=(3, 3), stride=(1, 1), padding=(1, 1))\n",
            "      (7): BatchNorm2d(256, eps=1e-05, momentum=0.1, affine=True, track_running_stats=True)\n",
            "      (8): ReLU()\n",
            "      (9): Conv2d(256, 256, kernel_size=(3, 3), stride=(1, 1), padding=(1, 1))\n",
            "      (10): BatchNorm2d(256, eps=1e-05, momentum=0.1, affine=True, track_running_stats=True)\n",
            "      (11): ReLU()\n",
            "      (12): MaxPool2d(kernel_size=2, stride=2, padding=0, dilation=1, ceil_mode=False)\n",
            "    )\n",
            "  )\n",
            "  (convlayer4): ConvBlock2(\n",
            "    (main): Sequential(\n",
            "      (0): Conv2d(256, 512, kernel_size=(3, 3), stride=(1, 1), padding=(1, 1))\n",
            "      (1): BatchNorm2d(512, eps=1e-05, momentum=0.1, affine=True, track_running_stats=True)\n",
            "      (2): ReLU()\n",
            "      (3): Conv2d(512, 512, kernel_size=(3, 3), stride=(1, 1), padding=(1, 1))\n",
            "      (4): BatchNorm2d(512, eps=1e-05, momentum=0.1, affine=True, track_running_stats=True)\n",
            "      (5): ReLU()\n",
            "      (6): Conv2d(512, 512, kernel_size=(3, 3), stride=(1, 1), padding=(1, 1))\n",
            "      (7): BatchNorm2d(512, eps=1e-05, momentum=0.1, affine=True, track_running_stats=True)\n",
            "      (8): ReLU()\n",
            "      (9): Conv2d(512, 512, kernel_size=(3, 3), stride=(1, 1), padding=(1, 1))\n",
            "      (10): BatchNorm2d(512, eps=1e-05, momentum=0.1, affine=True, track_running_stats=True)\n",
            "      (11): ReLU()\n",
            "      (12): MaxPool2d(kernel_size=2, stride=2, padding=0, dilation=1, ceil_mode=False)\n",
            "    )\n",
            "  )\n",
            "  (convlayer5): ConvBlock2(\n",
            "    (main): Sequential(\n",
            "      (0): Conv2d(512, 512, kernel_size=(3, 3), stride=(1, 1), padding=(1, 1))\n",
            "      (1): BatchNorm2d(512, eps=1e-05, momentum=0.1, affine=True, track_running_stats=True)\n",
            "      (2): ReLU()\n",
            "      (3): Conv2d(512, 512, kernel_size=(3, 3), stride=(1, 1), padding=(1, 1))\n",
            "      (4): BatchNorm2d(512, eps=1e-05, momentum=0.1, affine=True, track_running_stats=True)\n",
            "      (5): ReLU()\n",
            "      (6): Conv2d(512, 512, kernel_size=(3, 3), stride=(1, 1), padding=(1, 1))\n",
            "      (7): BatchNorm2d(512, eps=1e-05, momentum=0.1, affine=True, track_running_stats=True)\n",
            "      (8): ReLU()\n",
            "      (9): Conv2d(512, 512, kernel_size=(3, 3), stride=(1, 1), padding=(1, 1))\n",
            "      (10): BatchNorm2d(512, eps=1e-05, momentum=0.1, affine=True, track_running_stats=True)\n",
            "      (11): ReLU()\n",
            "      (12): MaxPool2d(kernel_size=2, stride=2, padding=0, dilation=1, ceil_mode=False)\n",
            "    )\n",
            "  )\n",
            "  (linear): Sequential(\n",
            "    (0): Linear(in_features=512, out_features=512, bias=True)\n",
            "    (1): ReLU()\n",
            "    (2): Linear(in_features=512, out_features=128, bias=True)\n",
            "    (3): ReLU()\n",
            "    (4): Linear(in_features=128, out_features=10, bias=True)\n",
            "  )\n",
            ")\n",
            "torch.Size([64, 10])\n"
          ]
        }
      ],
      "source": [
        "vgg19 = VGG19()\n",
        "print(vgg19)\n",
        "\n",
        "output = vgg19(sample_image)\n",
        "print(output.size())"
      ]
    },
    {
      "cell_type": "code",
      "execution_count": null,
      "metadata": {
        "colab": {
          "base_uri": "https://localhost:8080/"
        },
        "id": "LhsmJFl3J_ur",
        "outputId": "9300fcd5-e4dc-4994-d265-b13a82bbe907"
      },
      "outputs": [
        {
          "name": "stdout",
          "output_type": "stream",
          "text": [
            "success!\n"
          ]
        }
      ],
      "source": [
        "def count_parameters(model):\n",
        "    return sum(p.numel() for p in model.parameters() if p.requires_grad)\n",
        "if count_parameters(vgg19) == 20365002:\n",
        "    print('success!')"
      ]
    },
    {
      "cell_type": "markdown",
      "metadata": {
        "id": "gf4OKtLe5mbx"
      },
      "source": [
        "# 2.2 CIFAR-10 Dataset\n",
        "\n",
        "50000 training images  \\\n",
        "10000 validation images \\\n",
        "\\\n",
        "10 classes = [airplane, car, truck, frog, ...]\n",
        "\\\n",
        "for more info, https://www.cs.toronto.edu/~kriz/cifar.html \n",
        "\n"
      ]
    },
    {
      "cell_type": "code",
      "execution_count": null,
      "metadata": {
        "id": "-f1-pzCsPq6W"
      },
      "outputs": [],
      "source": [
        "# set hyperparameters\n",
        "batch_size = 64\n",
        "learning_rate = 0.0001\n",
        "num_epochs = 1"
      ]
    },
    {
      "cell_type": "code",
      "execution_count": null,
      "metadata": {
        "colab": {
          "base_uri": "https://localhost:8080/"
        },
        "id": "qajNxxseGGB6",
        "outputId": "297a5e18-529c-4790-af43-5068771c6dbc"
      },
      "outputs": [
        {
          "name": "stdout",
          "output_type": "stream",
          "text": [
            "Files already downloaded and verified\n"
          ]
        }
      ],
      "source": [
        "# import torchvision.datasets as datasets\n",
        "\n",
        "train_dataset = datasets.CIFAR10(root='./data/',       # 50000장\n",
        "                            train=True, \n",
        "                            transform=transforms.ToTensor(),\n",
        "                            download=True)\n",
        "\n",
        "test_dataset = datasets.CIFAR10(root='./data/',        # 10000장\n",
        "                           train=False, \n",
        "                           transform=transforms.ToTensor())\n",
        "\n",
        "# 데이터 로더\n",
        "train_loader = torch.utils.data.DataLoader(dataset=train_dataset,\n",
        "                                           batch_size=batch_size, \n",
        "                                           shuffle=True)\n",
        "\n",
        "test_loader = torch.utils.data.DataLoader(dataset=test_dataset,\n",
        "                                          batch_size=batch_size, \n",
        "                                          shuffle=True)"
      ]
    },
    {
      "cell_type": "code",
      "execution_count": null,
      "metadata": {
        "id": "vdz7yTsFOtuf"
      },
      "outputs": [],
      "source": [
        "import matplotlib.pyplot as plt\n",
        "import numpy as np\n",
        "\n",
        "\n",
        "def show_cifar10():\n",
        "    for images, _ in train_loader:\n",
        "        plt.figure(figsize=(8,8))\n",
        "        images_to_show = images.numpy().transpose((0,2,3,1))\n",
        "\n",
        "        for a in range(331, 340):  \n",
        "            plt.subplot(a)\n",
        "            plt.imshow(images_to_show[a-331])\n",
        "            plt.xticks([])\n",
        "            plt.yticks([])    \n",
        "            plt.show()   \n",
        "        break\n",
        "    return 0\n",
        "\n",
        "\n",
        "def loss_plot(acc):  \n",
        "    plt.plot(acc)\n",
        "    plt.xlabel('log')\n",
        "    plt.ylabel('accuracy')\n",
        "    plt.grid(True)\n",
        "    plt.show()\n",
        "    return 0\n",
        "\n",
        "import time\n",
        "class Timer():    \n",
        "    def __init__(self):\n",
        "        self.cur_t = time.time()\n",
        "\n",
        "    def tic(self):\n",
        "        self.cur_t = time.time()\n",
        "\n",
        "    def toc(self):\n",
        "        return time.time() - self.cur_t\n",
        "\n",
        "    def tocStr(self, t=-1):\n",
        "        if (t == -1):\n",
        "            return str(datetime.timedelta(seconds=np.round(time.time() - self.cur_t, 3)))[:-4]\n",
        "        else:\n",
        "            return str(datetime.timedelta(seconds=np.round(t, 3)))[:-4]\n",
        "          \n",
        "\n",
        "def test_on_cifar10(model, accuracy_list):  \n",
        "    # Test the Model       \n",
        "    model.eval()    # Change model to 'eval' mode (BN uses moving mean/var).\n",
        "    correct = 0\n",
        "    total = 0\n",
        "    for j, (images, labels) in enumerate(test_loader):\n",
        "        images = images.cuda()\n",
        "        outputs = model(images)\n",
        "        _, predicted = torch.max(outputs.data, 1)\n",
        "        total += labels.size(0)\n",
        "        correct += (predicted.cpu() == labels).sum()\n",
        "        if (j+1)%100==0:\n",
        "            break\n",
        "\n",
        "    print('Test Accuracy of the model on the 100 test images: %d %%' % (100 * correct.float() / total))\n",
        "    accuracy_list.append(100 * correct.float() / total) \n",
        "    return accuracy_list"
      ]
    },
    {
      "cell_type": "code",
      "execution_count": null,
      "metadata": {
        "id": "ZVfe387o5eVm"
      },
      "outputs": [],
      "source": [
        "# show_cifar10()"
      ]
    },
    {
      "cell_type": "markdown",
      "metadata": {
        "id": "1sITqCxfOWjv"
      },
      "source": [
        "## Train Cifar-10 with your VGG-19"
      ]
    },
    {
      "cell_type": "code",
      "execution_count": null,
      "metadata": {
        "id": "bd15jgp-Thej",
        "outputId": "40e81dd0-27c0-4cbb-8ba4-8cf6eeb5e668"
      },
      "outputs": [
        {
          "name": "stdout",
          "output_type": "stream",
          "text": [
            "Epoch [1/1], Iter [100/781] Loss: 2.1279, iter_time: 6.41\n",
            "Test Accuracy of the model on the 100 test images: 23 %\n",
            "Epoch [1/1], Iter [200/781] Loss: 1.7093, iter_time: 4.43\n",
            "Test Accuracy of the model on the 100 test images: 34 %\n",
            "Epoch [1/1], Iter [300/781] Loss: 1.6279, iter_time: 4.42\n",
            "Test Accuracy of the model on the 100 test images: 35 %\n",
            "Epoch [1/1], Iter [400/781] Loss: 1.5753, iter_time: 4.42\n",
            "Test Accuracy of the model on the 100 test images: 37 %\n",
            "Epoch [1/1], Iter [500/781] Loss: 1.5183, iter_time: 4.41\n",
            "Test Accuracy of the model on the 100 test images: 45 %\n",
            "Epoch [1/1], Iter [600/781] Loss: 1.4449, iter_time: 4.42\n",
            "Test Accuracy of the model on the 100 test images: 48 %\n",
            "Epoch [1/1], Iter [700/781] Loss: 1.2944, iter_time: 4.42\n",
            "Test Accuracy of the model on the 100 test images: 50 %\n"
          ]
        },
        {
          "data": {
            "text/plain": "<Figure size 432x288 with 1 Axes>",
            "image/png": "[encoded data removed]"
          },
          "metadata": {
            "needs_background": "light"
          },
          "output_type": "display_data"
        }
      ],
      "source": [
        "import torchvision.models as models\n",
        "vgg19 = models.vgg19_bn(pretrained=False)\n",
        "\n",
        "tell_time = Timer()\n",
        "iter_time = 0\n",
        "\n",
        "vgg19 = vgg19.cuda()\n",
        "criterion = nn.CrossEntropyLoss()\n",
        "optimizer = torch.optim.Adam(vgg19.parameters(), lr=learning_rate)\n",
        "\n",
        "accuracy_list = []\n",
        "for epoch in range(num_epochs):\n",
        "    vgg19.train()\n",
        "    for i, (images, labels) in enumerate(train_loader):\n",
        "        images = images.cuda()\n",
        "        labels = labels.cuda()\n",
        "\n",
        "        # Forward + Backward + Optimize\n",
        "        optimizer.zero_grad()\n",
        "        outputs = vgg19(images)\n",
        "        loss = criterion(outputs, labels)\n",
        "        loss.backward()\n",
        "        optimizer.step()\n",
        "\n",
        "        if (i+1) % 100 == 0:\n",
        "            print ('Epoch [%d/%d], Iter [%d/%d] Loss: %.4f, iter_time: %2.2f' \n",
        "                 %(epoch+1, num_epochs, i+1, len(train_dataset)//batch_size, loss.item(), tell_time.toc()-iter_time))\n",
        "            iter_time = tell_time.toc()    \n",
        "            accuracy_list = test_on_cifar10(vgg19, accuracy_list)\n",
        "\n",
        "    loss_plot(accuracy_list)"
      ]
    },
    {
      "cell_type": "markdown",
      "metadata": {
        "id": "ODBzyGVkUbVy"
      },
      "source": [
        "## Train Cifar-10 with pre-trained VGG-19"
      ]
    },
    {
      "cell_type": "code",
      "execution_count": null,
      "metadata": {
        "id": "2wszStGbThqT",
        "outputId": "6eae8d82-138a-4cd9-e467-bd1ce2d503d5",
        "colab": {
          "referenced_widgets": [
            "b062e7e3343f4cc1a1c95d02c52038fe"
          ]
        }
      },
      "outputs": [
        {
          "name": "stderr",
          "output_type": "stream",
          "text": [
            "Downloading: \"https://download.pytorch.org/models/vgg19_bn-c79401a0.pth\" to /home/taeukim/.cache/torch/hub/checkpoints/vgg19_bn-c79401a0.pth\n"
          ]
        },
        {
          "data": {
            "text/plain": "  0%|          | 0.00/548M [00:00<?, ?B/s]",
            "application/vnd.jupyter.widget-view+json": {
              "version_major": 2,
              "version_minor": 0,
              "model_id": "b062e7e3343f4cc1a1c95d02c52038fe"
            }
          },
          "metadata": {},
          "output_type": "display_data"
        }
      ],
      "source": [
        "import torchvision.models as models\n",
        "pre_vgg=models.vgg19_bn(pretrained=True)"
      ]
    },
    {
      "cell_type": "code",
      "source": [
        "a = torch.zeros((4,3,32,32))\n",
        "pre_vgg.features(a).shape"
      ],
      "metadata": {
        "id": "07csXSfZgEJF",
        "outputId": "2510dc87-17d9-4a9e-f989-e562b9cfcd38"
      },
      "execution_count": null,
      "outputs": [
        {
          "data": {
            "text/plain": "torch.Size([4, 512, 1, 1])"
          },
          "execution_count": 8,
          "metadata": {},
          "output_type": "execute_result"
        }
      ]
    },
    {
      "cell_type": "code",
      "execution_count": null,
      "metadata": {
        "id": "JBjKGJ7_lJxK"
      },
      "outputs": [],
      "source": [
        "class pretrained_vgg(nn.Module):\n",
        "    def __init__(self, pre_vgg):\n",
        "        super(pretrained_vgg, self).__init__()\n",
        "        self.features = nn.Sequential(   \n",
        "            *list(pre_vgg.features.children())\n",
        "        )\n",
        "        self.linear = nn.Sequential(\n",
        "            nn.Linear(512, 512),\n",
        "            nn.ReLU(),\n",
        "            nn.Linear(512, 128),\n",
        "            nn.ReLU(),\n",
        "            nn.Linear(128, 10),\n",
        "        )\n",
        "    def forward(self, x):\n",
        "        out = self.features(x).squeeze()\n",
        "        out = self.linear(out)\n",
        "        return out"
      ]
    },
    {
      "cell_type": "code",
      "execution_count": null,
      "metadata": {
        "colab": {
          "base_uri": "https://localhost:8080/",
          "height": 1000
        },
        "id": "8BWlG9AWlT3k",
        "outputId": "38ce9853-c979-47af-f8f8-8a531dd0d656"
      },
      "outputs": [
        {
          "name": "stdout",
          "output_type": "stream",
          "text": [
            "Epoch [1/1], Iter [100/781] Loss: 1.0609, iter_time: 1.94\n",
            "Test Accuracy of the model on the 100 test images: 66 %\n",
            "Epoch [1/1], Iter [200/781] Loss: 0.7749, iter_time: 2.66\n",
            "Test Accuracy of the model on the 100 test images: 76 %\n",
            "Epoch [1/1], Iter [300/781] Loss: 0.5069, iter_time: 2.86\n",
            "Test Accuracy of the model on the 100 test images: 78 %\n",
            "Epoch [1/1], Iter [400/781] Loss: 0.6386, iter_time: 2.80\n",
            "Test Accuracy of the model on the 100 test images: 79 %\n",
            "Epoch [1/1], Iter [500/781] Loss: 0.5460, iter_time: 2.95\n",
            "Test Accuracy of the model on the 100 test images: 82 %\n",
            "Epoch [1/1], Iter [600/781] Loss: 0.5047, iter_time: 2.98\n",
            "Test Accuracy of the model on the 100 test images: 83 %\n",
            "Epoch [1/1], Iter [700/781] Loss: 0.5097, iter_time: 2.84\n",
            "Test Accuracy of the model on the 100 test images: 82 %\n"
          ]
        },
        {
          "data": {
            "text/plain": "<Figure size 432x288 with 1 Axes>",
            "image/png": "[encoded data removed]"
          },
          "metadata": {
            "needs_background": "light"
          },
          "output_type": "display_data"
        }
      ],
      "source": [
        "vgg19 = pretrained_vgg(pre_vgg)\n",
        "\n",
        "tell_time = Timer()\n",
        "iter_time = 0\n",
        "\n",
        "vgg19 = vgg19.cuda()\n",
        "criterion = nn.CrossEntropyLoss()\n",
        "optimizer = torch.optim.Adam(vgg19.parameters(), lr=learning_rate)\n",
        "\n",
        "accuracy_list = []\n",
        "for epoch in range(num_epochs):\n",
        "    vgg19.train()\n",
        "    for i, (images, labels) in enumerate(train_loader):\n",
        "        images = images.cuda()\n",
        "        labels = labels.cuda()\n",
        "\n",
        "        # Forward + Backward + Optimize\n",
        "        optimizer.zero_grad()\n",
        "        outputs = vgg19(images)\n",
        "        loss = criterion(outputs, labels)\n",
        "        loss.backward()\n",
        "        optimizer.step()\n",
        "\n",
        "        if (i+1) % 100 == 0:\n",
        "            print ('Epoch [%d/%d], Iter [%d/%d] Loss: %.4f, iter_time: %2.2f'\n",
        "                 %(epoch+1, num_epochs, i+1, len(train_dataset)//batch_size, loss.item(), tell_time.toc()-iter_time))\n",
        "            iter_time = tell_time.toc()\n",
        "            accuracy_list = test_on_cifar10(vgg19, accuracy_list)\n",
        "\n",
        "    loss_plot(accuracy_list)"
      ]
    },
    {
      "cell_type": "markdown",
      "source": [
        "# 12-27. ASSIGNMENT : Change the vgg model to resnet model and re-training\n",
        "\n",
        "- `pretrained_resnet` class 구현 후 아래 학습 코드를 에러 없이 실행하기"
      ],
      "metadata": {
        "collapsed": false,
        "pycharm": {
          "name": "#%% md\n"
        },
        "id": "cUIR0LHlUbVz"
      }
    },
    {
      "cell_type": "code",
      "source": [
        "# https://github.com/pytorch/vision/blob/main/torchvision/models/resnet.py\n",
        "import torchvision.models as models\n",
        "resnet18 = models.resnet18(pretrained=True)"
      ],
      "metadata": {
        "id": "PqcsVSVTiDcz"
      },
      "execution_count": null,
      "outputs": []
    },
    {
      "cell_type": "code",
      "execution_count": null,
      "outputs": [],
      "source": [
        "# resnet18"
      ],
      "metadata": {
        "pycharm": {
          "name": "#%%\n"
        },
        "id": "tWwieq2Dvhos"
      }
    },
    {
      "cell_type": "code",
      "execution_count": null,
      "outputs": [
        {
          "data": {
            "text/plain": "torch.Size([4, 512])"
          },
          "execution_count": 16,
          "metadata": {},
          "output_type": "execute_result"
        }
      ],
      "source": [
        "test_layers = nn.Sequential(\n",
        "            *list(resnet18.children())\n",
        "        )\n",
        "a = torch.zeros((4,3,32,32))\n",
        "sub_layer = test_layers[:8]\n",
        "features = sub_layer(a)\n",
        "#features.squeeze().shape # torch.Size([4, 512, 1, 1])\n",
        "features = features.view(-1, 512 * 1 * 1 ) #--> 4, 1024\n",
        "features.shape\n",
        "#features.shape"
      ],
      "metadata": {
        "pycharm": {
          "name": "#%%\n"
        },
        "id": "wnxaBs2evhos",
        "outputId": "69f3ac59-e801-431c-d6eb-133463430097"
      }
    },
    {
      "cell_type": "code",
      "source": [
        ""
      ],
      "metadata": {
        "id": "QbhWlbTjjyZM"
      },
      "execution_count": null,
      "outputs": []
    },
    {
      "cell_type": "code",
      "source": [
        "class pretrained_resnet(nn.Module):\n",
        "    def __init__(self, resnet18):\n",
        "        super(pretrained_resnet, self).__init__()\n",
        "        self.features = nn.Sequential(   \n",
        "            *list(resnet18.children())\n",
        "        )\n",
        "        self.features = self.features[:8]\n",
        "\n",
        "        self.linear = self.linear = nn.Sequential(\n",
        "            nn.Linear(512, 512),\n",
        "            nn.ReLU(),\n",
        "            nn.Linear(512, 128),\n",
        "            nn.ReLU(),\n",
        "            nn.Linear(128, 10),\n",
        "        )\n",
        "    def forward(self, x):\n",
        "        out = self.features(x).view(-1, 512 * 1 * 1)\n",
        "        out = self.linear(out)\n",
        "        return out"
      ],
      "metadata": {
        "id": "F33a8Fw7hR5l"
      },
      "execution_count": null,
      "outputs": []
    },
    {
      "cell_type": "code",
      "source": [
        "# set hyperparameters\n",
        "learning_rate = 0.00005\n",
        "num_epochs = 2"
      ],
      "metadata": {
        "id": "2VFORmPNlCvs"
      },
      "execution_count": null,
      "outputs": []
    },
    {
      "cell_type": "code",
      "source": [
        "resnet_our = pretrained_resnet(resnet18)\n",
        "\n",
        "tell_time = Timer()\n",
        "iter_time = 0\n",
        "\n",
        "resnet_our = resnet_our.cuda()\n",
        "criterion = nn.CrossEntropyLoss()\n",
        "optimizer = torch.optim.Adam(resnet_our.parameters(), lr=learning_rate)\n",
        "\n",
        "accuracy_list = []\n",
        "for epoch in range(num_epochs):\n",
        "    resnet_our.train()\n",
        "    for i, (images, labels) in enumerate(train_loader):\n",
        "        images = images.cuda()\n",
        "        labels = labels.cuda()\n",
        "\n",
        "        # Forward + Backward + Optimize\n",
        "        optimizer.zero_grad()\n",
        "        outputs = resnet_our(images)\n",
        "        loss = criterion(outputs, labels)\n",
        "        loss.backward()\n",
        "        optimizer.step()\n",
        "\n",
        "        if (i+1) % 100 == 0:\n",
        "            print ('Epoch [%d/%d], Iter [%d/%d] Loss: %.4f, iter_time: %2.2f' \n",
        "                 %(epoch+1, num_epochs, i+1, len(train_dataset)//batch_size, loss.item(), tell_time.toc()-iter_time))\n",
        "            iter_time = tell_time.toc()    \n",
        "            accuracy_list = test_on_cifar10(resnet_our, accuracy_list)\n",
        "\n",
        "    loss_plot(accuracy_list)"
      ],
      "metadata": {
        "id": "Q30NJhaOkwOS",
        "outputId": "53aa5127-9793-4800-fb17-b6473c9391a0"
      },
      "execution_count": null,
      "outputs": [
        {
          "name": "stdout",
          "output_type": "stream",
          "text": [
            "Epoch [1/2], Iter [100/781] Loss: 1.6412, iter_time: 2.15\n",
            "Test Accuracy of the model on the 100 test images: 46 %\n",
            "Epoch [1/2], Iter [200/781] Loss: 0.9490, iter_time: 2.78\n",
            "Test Accuracy of the model on the 100 test images: 63 %\n",
            "Epoch [1/2], Iter [300/781] Loss: 0.8657, iter_time: 2.81\n",
            "Test Accuracy of the model on the 100 test images: 69 %\n",
            "Epoch [1/2], Iter [400/781] Loss: 0.6276, iter_time: 2.82\n",
            "Test Accuracy of the model on the 100 test images: 71 %\n",
            "Epoch [1/2], Iter [500/781] Loss: 0.5744, iter_time: 3.03\n",
            "Test Accuracy of the model on the 100 test images: 71 %\n",
            "Epoch [1/2], Iter [600/781] Loss: 0.7552, iter_time: 2.86\n",
            "Test Accuracy of the model on the 100 test images: 72 %\n",
            "Epoch [1/2], Iter [700/781] Loss: 0.7061, iter_time: 2.79\n",
            "Test Accuracy of the model on the 100 test images: 74 %\n"
          ]
        },
        {
          "data": {
            "text/plain": "<Figure size 432x288 with 1 Axes>",
            "image/png": "[encoded data removed]"
          },
          "metadata": {
            "needs_background": "light"
          },
          "output_type": "display_data"
        },
        {
          "name": "stdout",
          "output_type": "stream",
          "text": [
            "Epoch [2/2], Iter [100/781] Loss: 0.9866, iter_time: 4.64\n",
            "Test Accuracy of the model on the 100 test images: 69 %\n",
            "Epoch [2/2], Iter [200/781] Loss: 0.6507, iter_time: 2.58\n",
            "Test Accuracy of the model on the 100 test images: 75 %\n",
            "Epoch [2/2], Iter [300/781] Loss: 0.6691, iter_time: 2.58\n",
            "Test Accuracy of the model on the 100 test images: 75 %\n",
            "Epoch [2/2], Iter [400/781] Loss: 0.5831, iter_time: 2.55\n",
            "Test Accuracy of the model on the 100 test images: 76 %\n",
            "Epoch [2/2], Iter [500/781] Loss: 0.6407, iter_time: 2.70\n",
            "Test Accuracy of the model on the 100 test images: 77 %\n",
            "Epoch [2/2], Iter [600/781] Loss: 0.7194, iter_time: 2.59\n",
            "Test Accuracy of the model on the 100 test images: 77 %\n",
            "Epoch [2/2], Iter [700/781] Loss: 0.3344, iter_time: 2.83\n",
            "Test Accuracy of the model on the 100 test images: 78 %\n"
          ]
        },
        {
          "data": {
            "text/plain": "<Figure size 432x288 with 1 Axes>",
            "image/png": "[encoded data removed]"
          },
          "metadata": {
            "needs_background": "light"
          },
          "output_type": "display_data"
        }
      ]
    },
    {
      "cell_type": "code",
      "source": [
        ""
      ],
      "metadata": {
        "id": "4NBVmcTYlAki"
      },
      "execution_count": null,
      "outputs": []
    }
  ],
  "metadata": {
    "accelerator": "GPU",
    "colab": {
      "collapsed_sections": [],
      "name": "DAY05_211227_VGG_과제정답.ipynb",
      "provenance": [],
      "toc_visible": true,
      "include_colab_link": true
    },
    "kernelspec": {
      "display_name": "Python 3",
      "language": "python",
      "name": "python3"
    },
    "language_info": {
      "codemirror_mode": {
        "name": "ipython",
        "version": 3
      },
      "file_extension": ".py",
      "mimetype": "text/x-python",
      "name": "python",
      "nbconvert_exporter": "python",
      "pygments_lexer": "ipython3",
      "version": "3.7.8"
    },
    "widgets": {
      "application/vnd.jupyter.widget-state+json": {}
    }
  },
  "nbformat": 4,
  "nbformat_minor": 0
}